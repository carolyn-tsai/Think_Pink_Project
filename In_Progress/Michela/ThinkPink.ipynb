{
 "cells": [
  {
   "cell_type": "code",
   "execution_count": 7,
   "metadata": {},
   "outputs": [
    {
     "data": {
      "text/html": [
       "<div>\n",
       "<style scoped>\n",
       "    .dataframe tbody tr th:only-of-type {\n",
       "        vertical-align: middle;\n",
       "    }\n",
       "\n",
       "    .dataframe tbody tr th {\n",
       "        vertical-align: top;\n",
       "    }\n",
       "\n",
       "    .dataframe thead th {\n",
       "        text-align: right;\n",
       "    }\n",
       "</style>\n",
       "<table border=\"1\" class=\"dataframe\">\n",
       "  <thead>\n",
       "    <tr style=\"text-align: right;\">\n",
       "      <th></th>\n",
       "      <th>Patient ID</th>\n",
       "      <th>Age</th>\n",
       "      <th>Treating Practitioner</th>\n",
       "      <th>Primary Practitioner</th>\n",
       "      <th>Device Type</th>\n",
       "      <th>Primary Insurance</th>\n",
       "      <th>Device Type Side</th>\n",
       "      <th>Device Type Upper/Lower</th>\n",
       "      <th>Cost Of Materials(Rx)</th>\n",
       "    </tr>\n",
       "  </thead>\n",
       "  <tbody>\n",
       "    <tr>\n",
       "      <th>0</th>\n",
       "      <td>10989</td>\n",
       "      <td>75</td>\n",
       "      <td>NaN</td>\n",
       "      <td>NaN</td>\n",
       "      <td>Breast Form &amp; Bras, Bilateral</td>\n",
       "      <td>Blue Shield 65 Plus</td>\n",
       "      <td>Bilateral</td>\n",
       "      <td>Upper</td>\n",
       "      <td>0.0</td>\n",
       "    </tr>\n",
       "    <tr>\n",
       "      <th>1</th>\n",
       "      <td>1569</td>\n",
       "      <td>60</td>\n",
       "      <td>Tsai, Carolyn</td>\n",
       "      <td>NaN</td>\n",
       "      <td>Breast Form &amp; Bras, Bilateral</td>\n",
       "      <td>Anthem Blue Cross</td>\n",
       "      <td>Bilateral</td>\n",
       "      <td>Upper</td>\n",
       "      <td>0.0</td>\n",
       "    </tr>\n",
       "    <tr>\n",
       "      <th>2</th>\n",
       "      <td>11366</td>\n",
       "      <td>73</td>\n",
       "      <td>Tsai, Carolyn</td>\n",
       "      <td>NaN</td>\n",
       "      <td>Breast Form &amp; Bras, Bilateral</td>\n",
       "      <td>Noridian Medicare Region D</td>\n",
       "      <td>Bilateral</td>\n",
       "      <td>Upper</td>\n",
       "      <td>305.5</td>\n",
       "    </tr>\n",
       "    <tr>\n",
       "      <th>3</th>\n",
       "      <td>7228</td>\n",
       "      <td>94</td>\n",
       "      <td>Lund, Emily</td>\n",
       "      <td>Lund, Emily</td>\n",
       "      <td>Breast Form &amp; Bras, Bilateral</td>\n",
       "      <td>Noridian Medicare Region D</td>\n",
       "      <td>Bilateral</td>\n",
       "      <td>Upper</td>\n",
       "      <td>358.4</td>\n",
       "    </tr>\n",
       "    <tr>\n",
       "      <th>4</th>\n",
       "      <td>10250</td>\n",
       "      <td>84</td>\n",
       "      <td>Lund, Emily</td>\n",
       "      <td>Lund, Emily</td>\n",
       "      <td>Breast Form &amp; Bras, Bilateral</td>\n",
       "      <td>HEALTHNET SENIORITY PLUS</td>\n",
       "      <td>Bilateral</td>\n",
       "      <td>Upper</td>\n",
       "      <td>0.0</td>\n",
       "    </tr>\n",
       "  </tbody>\n",
       "</table>\n",
       "</div>"
      ],
      "text/plain": [
       "   Patient ID  Age Treating Practitioner Primary Practitioner  \\\n",
       "0       10989   75                   NaN                  NaN   \n",
       "1        1569   60       Tsai, Carolyn                    NaN   \n",
       "2       11366   73       Tsai, Carolyn                    NaN   \n",
       "3        7228   94          Lund, Emily          Lund, Emily    \n",
       "4       10250   84          Lund, Emily          Lund, Emily    \n",
       "\n",
       "                     Device Type           Primary Insurance Device Type Side  \\\n",
       "0  Breast Form & Bras, Bilateral         Blue Shield 65 Plus        Bilateral   \n",
       "1  Breast Form & Bras, Bilateral           Anthem Blue Cross        Bilateral   \n",
       "2  Breast Form & Bras, Bilateral  Noridian Medicare Region D        Bilateral   \n",
       "3  Breast Form & Bras, Bilateral  Noridian Medicare Region D        Bilateral   \n",
       "4  Breast Form & Bras, Bilateral    HEALTHNET SENIORITY PLUS        Bilateral   \n",
       "\n",
       "  Device Type Upper/Lower  Cost Of Materials(Rx)  \n",
       "0                   Upper                    0.0  \n",
       "1                   Upper                    0.0  \n",
       "2                   Upper                  305.5  \n",
       "3                   Upper                  358.4  \n",
       "4                   Upper                    0.0  "
      ]
     },
     "execution_count": 7,
     "metadata": {},
     "output_type": "execute_result"
    }
   ],
   "source": [
    "import pandas as pd\n",
    "pd.set_option('display.max_columns', None)\n",
    "X_df = pd.read_csv('TrainFeatures.csv')\n",
    "X_df.head()"
   ]
  },
  {
   "cell_type": "code",
   "execution_count": 8,
   "metadata": {},
   "outputs": [
    {
     "name": "stdout",
     "output_type": "stream",
     "text": [
      "<class 'pandas.core.frame.DataFrame'>\n",
      "RangeIndex: 493 entries, 0 to 492\n",
      "Data columns (total 9 columns):\n",
      "Patient ID                 493 non-null int64\n",
      "Age                        493 non-null int64\n",
      "Treating Practitioner      480 non-null object\n",
      "Primary Practitioner       439 non-null object\n",
      "Device Type                493 non-null object\n",
      "Primary Insurance          485 non-null object\n",
      "Device Type Side           300 non-null object\n",
      "Device Type Upper/Lower    493 non-null object\n",
      "Cost Of Materials(Rx)      493 non-null float64\n",
      "dtypes: float64(1), int64(2), object(6)\n",
      "memory usage: 34.7+ KB\n"
     ]
    }
   ],
   "source": [
    "X_df.info()"
   ]
  },
  {
   "cell_type": "code",
   "execution_count": 9,
   "metadata": {},
   "outputs": [
    {
     "data": {
      "text/html": [
       "<div>\n",
       "<style scoped>\n",
       "    .dataframe tbody tr th:only-of-type {\n",
       "        vertical-align: middle;\n",
       "    }\n",
       "\n",
       "    .dataframe tbody tr th {\n",
       "        vertical-align: top;\n",
       "    }\n",
       "\n",
       "    .dataframe thead th {\n",
       "        text-align: right;\n",
       "    }\n",
       "</style>\n",
       "<table border=\"1\" class=\"dataframe\">\n",
       "  <thead>\n",
       "    <tr style=\"text-align: right;\">\n",
       "      <th></th>\n",
       "      <th>Patient ID</th>\n",
       "      <th>Name</th>\n",
       "    </tr>\n",
       "  </thead>\n",
       "  <tbody>\n",
       "    <tr>\n",
       "      <th>0</th>\n",
       "      <td>4203</td>\n",
       "      <td>Lara Satin Bra</td>\n",
       "    </tr>\n",
       "    <tr>\n",
       "      <th>1</th>\n",
       "      <td>4203</td>\n",
       "      <td>Zipper Bra Medium Support</td>\n",
       "    </tr>\n",
       "    <tr>\n",
       "      <th>2</th>\n",
       "      <td>4203</td>\n",
       "      <td>Balance Essential Light Volume Delta Partial Form</td>\n",
       "    </tr>\n",
       "    <tr>\n",
       "      <th>3</th>\n",
       "      <td>18626</td>\n",
       "      <td>Balance Natura SV</td>\n",
       "    </tr>\n",
       "    <tr>\n",
       "      <th>4</th>\n",
       "      <td>2202</td>\n",
       "      <td>Bella wire-free bra</td>\n",
       "    </tr>\n",
       "  </tbody>\n",
       "</table>\n",
       "</div>"
      ],
      "text/plain": [
       "  Patient ID                                               Name\n",
       "0       4203                                     Lara Satin Bra\n",
       "1       4203                          Zipper Bra Medium Support\n",
       "2       4203  Balance Essential Light Volume Delta Partial Form\n",
       "3      18626                                  Balance Natura SV\n",
       "4       2202                                Bella wire-free bra"
      ]
     },
     "execution_count": 9,
     "metadata": {},
     "output_type": "execute_result"
    }
   ],
   "source": [
    "y_df = pd.read_csv('TrainLabels.csv')\n",
    "y_df.head()"
   ]
  },
  {
   "cell_type": "code",
   "execution_count": 10,
   "metadata": {},
   "outputs": [
    {
     "data": {
      "text/plain": [
       "Lara wire-free bra                               0.059378\n",
       "Natura 3E - 397                                  0.032045\n",
       "Annette Underwire Bra                            0.024505\n",
       "Natura Xtra Light 2SN - 400                      0.024505\n",
       "Isadora wire-free bra                            0.023563\n",
       "Isabel wire-free bra                             0.022620\n",
       "Dianna Wire-Free Bra                             0.021678\n",
       "Nancy Wire-Free Bra                              0.021678\n",
       "Mara Wire-Free Bra                               0.021678\n",
       "Lara Satin Bra                                   0.020735\n",
       "Mona wire-free bra                               0.020735\n",
       "Ruth wire-free bra                               0.018850\n",
       "Annabell wire-free bra                           0.016023\n",
       "Frances Front Closure Bra                        0.016023\n",
       "Zipper Bra Medium Support                        0.015080\n",
       "Rita wire-free bra                               0.014138\n",
       "Natura Xtra Lt 1SN                               0.014138\n",
       "Dorothy wire-free bra                            0.013195\n",
       "Amber Padded Soft Bra                            0.012253\n",
       "Adapt Light 3A - 376                             0.012253\n",
       "Nora Soft Bra - Nougat                           0.010368\n",
       "Katy Wire-Free Bra                               0.010368\n",
       "Ellen Soft Bra                                   0.010368\n",
       "Dana wire-free bra                               0.010368\n",
       "Ella wire-free bra                               0.009425\n",
       "Energy Light 2S - 342N                           0.009425\n",
       "Natura Light 2A - 392                            0.009425\n",
       "Jasmin wire-free bra                             0.008483\n",
       "Embrace Bra                                      0.008483\n",
       "Essential 2A - 353                               0.008483\n",
       "                                                   ...   \n",
       "Audrey 4008 Underw Lace Acc Bra 38B Blk          0.000943\n",
       "44245 Ellen Soft Bra                             0.000943\n",
       "Cotton Cover 151 for 2A                          0.000943\n",
       "224T Balance Essential Light VD                  0.000943\n",
       "Amber Padded Soft Bra : Black : 40AA             0.000943\n",
       "Kalena Camisole                                  0.000943\n",
       "ABC My Form Lightweight                          0.000943\n",
       "Natura Xtra LT 1SN : SIZE 6                      0.000943\n",
       "Secrets Breast Enhancer - Clear - 1 Pair         0.000943\n",
       "Jewel Plus Style 99                              0.000943\n",
       "Ava wire-free bra : 34B : Pearl Beige            0.000943\n",
       "Performance Sports bra                           0.000943\n",
       "Natura Xtra light 1SN                            0.000943\n",
       "Dianna Wire-Free Bra : Rose Nude : 38B           0.000943\n",
       "Convex Lightweight Triangle                      0.000943\n",
       "Blush : Size 6                                   0.000943\n",
       "Beige : 46B                                      0.000943\n",
       "Comfy bra                                        0.000943\n",
       "Petite Molded Foam Wire-Free Bra                 0.000943\n",
       "Front Close Rose Contour Bra                     0.000943\n",
       "Balance Premium Fit Kit                          0.000943\n",
       "Amy Seamless Bra                                 0.000943\n",
       "Balance Contact Varia Partial Form               0.000943\n",
       "Frances Front Closure Bra : Nude : Medium A/B    0.000943\n",
       "Roxanne wire free bra                            0.000943\n",
       "ABC Rose Contour Bra                             0.000943\n",
       "Essential form                                   0.000943\n",
       "Amber Lace Top - BLACK                           0.000943\n",
       "T-shirt bra                                      0.000943\n",
       "44607 KITTY SB S ROSE NUDE                       0.000943\n",
       "Name: Name, Length: 329, dtype: float64"
      ]
     },
     "execution_count": 10,
     "metadata": {},
     "output_type": "execute_result"
    }
   ],
   "source": [
    "y_df['Name'].value_counts(normalize=True)"
   ]
  },
  {
   "cell_type": "code",
   "execution_count": 12,
   "metadata": {},
   "outputs": [
    {
     "ename": "TypeError",
     "evalue": "'method' object is not iterable",
     "output_type": "error",
     "traceback": [
      "\u001b[0;31m---------------------------------------------------------------------------\u001b[0m",
      "\u001b[0;31mTypeError\u001b[0m                                 Traceback (most recent call last)",
      "\u001b[0;32m<ipython-input-12-61e342afd0ed>\u001b[0m in \u001b[0;36m<module>\u001b[0;34m\u001b[0m\n\u001b[1;32m      1\u001b[0m \u001b[0mmax_cardinality\u001b[0m \u001b[0;34m=\u001b[0m \u001b[0;36m100\u001b[0m\u001b[0;34m\u001b[0m\u001b[0;34m\u001b[0m\u001b[0m\n\u001b[0;32m----> 2\u001b[0;31m high_cardinality = [col for col in X_df.select_dtypes\n\u001b[0m\u001b[1;32m      3\u001b[0m                    if X_df[col].nunique() > max_cardinality]\n\u001b[1;32m      4\u001b[0m \u001b[0mX_df\u001b[0m \u001b[0;34m=\u001b[0m \u001b[0mX_df\u001b[0m\u001b[0;34m.\u001b[0m\u001b[0mdrop\u001b[0m\u001b[0;34m(\u001b[0m\u001b[0mcolumns\u001b[0m\u001b[0;34m=\u001b[0m\u001b[0mhigh_cardinality\u001b[0m\u001b[0;34m)\u001b[0m\u001b[0;34m\u001b[0m\u001b[0;34m\u001b[0m\u001b[0m\n\u001b[1;32m      5\u001b[0m \u001b[0mX_df\u001b[0m\u001b[0;34m.\u001b[0m\u001b[0minfo\u001b[0m\u001b[0;34m(\u001b[0m\u001b[0;34m)\u001b[0m\u001b[0;34m\u001b[0m\u001b[0;34m\u001b[0m\u001b[0m\n",
      "\u001b[0;31mTypeError\u001b[0m: 'method' object is not iterable"
     ]
    }
   ],
   "source": [
    "max_cardinality = 100\n",
    "high_cardinality = [col for col in X_df.select_dtypes\n",
    "                   if X_df[col].nunique() > max_cardinality]\n",
    "X_df = X_df.drop(columns=high_cardinality)\n",
    "X_df.info()"
   ]
  },
  {
   "cell_type": "code",
   "execution_count": 15,
   "metadata": {},
   "outputs": [
    {
     "ename": "NameError",
     "evalue": "name 'X' is not defined",
     "output_type": "error",
     "traceback": [
      "\u001b[0;31m---------------------------------------------------------------------------\u001b[0m",
      "\u001b[0;31mNameError\u001b[0m                                 Traceback (most recent call last)",
      "\u001b[0;32m<ipython-input-15-a5bf0ad25c6d>\u001b[0m in \u001b[0;36m<module>\u001b[0;34m\u001b[0m\n\u001b[1;32m      1\u001b[0m \u001b[0;32mfrom\u001b[0m \u001b[0msklearn\u001b[0m\u001b[0;34m.\u001b[0m\u001b[0mpreprocessing\u001b[0m \u001b[0;32mimport\u001b[0m \u001b[0mscale\u001b[0m\u001b[0;34m\u001b[0m\u001b[0;34m\u001b[0m\u001b[0m\n\u001b[1;32m      2\u001b[0m \u001b[0;32mfrom\u001b[0m \u001b[0msklearn\u001b[0m\u001b[0;34m.\u001b[0m\u001b[0mmodel_selection\u001b[0m \u001b[0;32mimport\u001b[0m \u001b[0mtrain_test_split\u001b[0m\u001b[0;34m\u001b[0m\u001b[0;34m\u001b[0m\u001b[0m\n\u001b[0;32m----> 3\u001b[0;31m \u001b[0mX\u001b[0m \u001b[0;34m=\u001b[0m \u001b[0mX\u001b[0m\u001b[0;34m.\u001b[0m\u001b[0mdrop\u001b[0m\u001b[0;34m(\u001b[0m\u001b[0mcolumns\u001b[0m\u001b[0;34m=\u001b[0m\u001b[0;34m'Patient ID'\u001b[0m\u001b[0;34m)\u001b[0m \u001b[0;31m#id is our index and won't help our model\u001b[0m\u001b[0;34m\u001b[0m\u001b[0;34m\u001b[0m\u001b[0m\n\u001b[0m\u001b[1;32m      4\u001b[0m \u001b[0mX\u001b[0m \u001b[0;34m=\u001b[0m \u001b[0mscale\u001b[0m\u001b[0;34m(\u001b[0m\u001b[0mX\u001b[0m\u001b[0;34m)\u001b[0m\u001b[0;34m\u001b[0m\u001b[0;34m\u001b[0m\u001b[0m\n\u001b[1;32m      5\u001b[0m X_train, X_test, y_train, y_test = train_test_split(\n",
      "\u001b[0;31mNameError\u001b[0m: name 'X' is not defined"
     ]
    }
   ],
   "source": [
    "from sklearn.preprocessing import scale\n",
    "from sklearn.model_selection import train_test_split\n",
    "X = X.drop(columns='Patient ID') #id is our index and won't help our model\n",
    "X = scale(X) \n",
    "X_train, X_test, y_train, y_test = train_test_split(\n",
    "        X, y, train_size=0.75, test_size=0.25, random_state=42, shuffle=True)"
   ]
  },
  {
   "cell_type": "code",
   "execution_count": 16,
   "metadata": {},
   "outputs": [
    {
     "ename": "NameError",
     "evalue": "name 'X_train' is not defined",
     "output_type": "error",
     "traceback": [
      "\u001b[0;31m---------------------------------------------------------------------------\u001b[0m",
      "\u001b[0;31mNameError\u001b[0m                                 Traceback (most recent call last)",
      "\u001b[0;32m<ipython-input-16-5a57695e42a7>\u001b[0m in \u001b[0;36m<module>\u001b[0;34m\u001b[0m\n\u001b[1;32m      2\u001b[0m \u001b[0;32mfrom\u001b[0m \u001b[0msklearn\u001b[0m\u001b[0;34m.\u001b[0m\u001b[0mmetrics\u001b[0m \u001b[0;32mimport\u001b[0m \u001b[0maccuracy_score\u001b[0m\u001b[0;34m\u001b[0m\u001b[0;34m\u001b[0m\u001b[0m\n\u001b[1;32m      3\u001b[0m \u001b[0mlogreg\u001b[0m \u001b[0;34m=\u001b[0m \u001b[0mLogisticRegression\u001b[0m\u001b[0;34m(\u001b[0m\u001b[0;34m)\u001b[0m\u001b[0;34m\u001b[0m\u001b[0;34m\u001b[0m\u001b[0m\n\u001b[0;32m----> 4\u001b[0;31m \u001b[0mlogreg\u001b[0m\u001b[0;34m.\u001b[0m\u001b[0mfit\u001b[0m\u001b[0;34m(\u001b[0m\u001b[0mX_train\u001b[0m\u001b[0;34m,\u001b[0m\u001b[0my_train\u001b[0m\u001b[0;34m)\u001b[0m\u001b[0;34m\u001b[0m\u001b[0;34m\u001b[0m\u001b[0m\n\u001b[0m\u001b[1;32m      5\u001b[0m \u001b[0my_pred\u001b[0m \u001b[0;34m=\u001b[0m \u001b[0mlogreg\u001b[0m\u001b[0;34m.\u001b[0m\u001b[0mpredict\u001b[0m\u001b[0;34m(\u001b[0m\u001b[0mX_train\u001b[0m\u001b[0;34m)\u001b[0m\u001b[0;34m\u001b[0m\u001b[0;34m\u001b[0m\u001b[0m\n\u001b[1;32m      6\u001b[0m \u001b[0mprint\u001b[0m\u001b[0;34m(\u001b[0m\u001b[0;34m'Train accuracy score:'\u001b[0m\u001b[0;34m,\u001b[0m\u001b[0maccuracy_score\u001b[0m\u001b[0;34m(\u001b[0m\u001b[0my_train\u001b[0m\u001b[0;34m,\u001b[0m\u001b[0my_pred\u001b[0m\u001b[0;34m)\u001b[0m\u001b[0;34m)\u001b[0m\u001b[0;34m\u001b[0m\u001b[0;34m\u001b[0m\u001b[0m\n",
      "\u001b[0;31mNameError\u001b[0m: name 'X_train' is not defined"
     ]
    }
   ],
   "source": [
    "from sklearn.linear_model import LogisticRegression\n",
    "from sklearn.metrics import accuracy_score\n",
    "logreg = LogisticRegression()\n",
    "logreg.fit(X_train,y_train)\n",
    "y_pred = logreg.predict(X_train)\n",
    "print('Train accuracy score:',accuracy_score(y_train,y_pred))\n",
    "print('Test accuracy score:', accuracy_score(y_test,logreg.predict(X_test)))\n"
   ]
  },
  {
   "cell_type": "code",
   "execution_count": null,
   "metadata": {},
   "outputs": [],
   "source": []
  }
 ],
 "metadata": {
  "kernelspec": {
   "display_name": "Python 3",
   "language": "python",
   "name": "python3"
  },
  "language_info": {
   "codemirror_mode": {
    "name": "ipython",
    "version": 3
   },
   "file_extension": ".py",
   "mimetype": "text/x-python",
   "name": "python",
   "nbconvert_exporter": "python",
   "pygments_lexer": "ipython3",
   "version": "3.7.3"
  }
 },
 "nbformat": 4,
 "nbformat_minor": 2
}
